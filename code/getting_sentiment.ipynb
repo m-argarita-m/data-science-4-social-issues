{
 "cells": [
  {
   "cell_type": "code",
   "execution_count": 4,
   "id": "355c8360-d490-466a-9fdd-ded0e423730b",
   "metadata": {
    "tags": []
   },
   "outputs": [
    {
     "name": "stderr",
     "output_type": "stream",
     "text": [
      "c:\\Users\\andre\\anaconda3\\envs\\DataScience\\lib\\site-packages\\tqdm\\auto.py:21: TqdmWarning: IProgress not found. Please update jupyter and ipywidgets. See https://ipywidgets.readthedocs.io/en/stable/user_install.html\n",
      "  from .autonotebook import tqdm as notebook_tqdm\n"
     ]
    }
   ],
   "source": [
    "import pandas as pd\n",
    "import numpy as np\n",
    "import matplotlib.pyplot as plt\n",
    "import seaborn as sns\n",
    "import getpass\n",
    "\n",
    "from datetime import datetime\n",
    "\n",
    "import lxml\n",
    "\n",
    "\n",
    "\n",
    "# %pip install torch torchvision torchaudio --index-url https://download.pytorch.org/whl/cu121\n",
    "# %pip install transformers\n",
    "\n",
    "from transformers import AutoTokenizer, AutoModelForSequenceClassification\n",
    "import torch\n",
    "import re\n",
    "# %pip install xlrd\n",
    "\n",
    "# This one allows me not to put plt.show() in every graph.\n",
    "%matplotlib inline\n"
   ]
  },
  {
   "cell_type": "code",
   "execution_count": 16,
   "id": "9ba6ca1c",
   "metadata": {},
   "outputs": [],
   "source": [
    "user = getpass.getuser()\n",
    "rel_path = '/Texas Exchange/Project'\n",
    "\n",
    "\n",
    "in_path = '/Users/' + user + rel_path + '/input/'\n",
    "out_path = '/Users/' + user + rel_path + '/output/'\n"
   ]
  },
  {
   "cell_type": "code",
   "execution_count": 25,
   "id": "e37aa0f7",
   "metadata": {},
   "outputs": [
    {
     "data": {
      "text/html": [
       "<div>\n",
       "<style scoped>\n",
       "    .dataframe tbody tr th:only-of-type {\n",
       "        vertical-align: middle;\n",
       "    }\n",
       "\n",
       "    .dataframe tbody tr th {\n",
       "        vertical-align: top;\n",
       "    }\n",
       "\n",
       "    .dataframe thead th {\n",
       "        text-align: right;\n",
       "    }\n",
       "</style>\n",
       "<table border=\"1\" class=\"dataframe\">\n",
       "  <thead>\n",
       "    <tr style=\"text-align: right;\">\n",
       "      <th></th>\n",
       "      <th>Title</th>\n",
       "      <th>StoreId</th>\n",
       "      <th>entryDate</th>\n",
       "      <th>pubdate</th>\n",
       "      <th>pubtitle</th>\n",
       "    </tr>\n",
       "  </thead>\n",
       "  <tbody>\n",
       "    <tr>\n",
       "      <th>0</th>\n",
       "      <td>Apple Inc. Stock Falls Monday, Underperforms M...</td>\n",
       "      <td>2877616354</td>\n",
       "      <td>Oct 16, 2023</td>\n",
       "      <td>Oct 16, 2023</td>\n",
       "      <td>Dow Jones Institutional News</td>\n",
       "    </tr>\n",
       "    <tr>\n",
       "      <th>1</th>\n",
       "      <td>Zacks Investment Research: Apple (AAPL) Stock ...</td>\n",
       "      <td>2877513694</td>\n",
       "      <td>Oct 16, 2023</td>\n",
       "      <td>Oct 16, 2023</td>\n",
       "      <td>Newstex Finance &amp; Accounting Blogs</td>\n",
       "    </tr>\n",
       "    <tr>\n",
       "      <th>2</th>\n",
       "      <td>Apple (AAPL) Stock Sinks As Market Gains: What...</td>\n",
       "      <td>2877508989</td>\n",
       "      <td>Oct 16, 2023</td>\n",
       "      <td>Oct 16, 2023</td>\n",
       "      <td>Zacks Investment Research [BLOG]</td>\n",
       "    </tr>\n",
       "    <tr>\n",
       "      <th>3</th>\n",
       "      <td>Thinking about trading options or stock in App...</td>\n",
       "      <td>2877344743</td>\n",
       "      <td>Oct 16, 2023</td>\n",
       "      <td>Oct 16, 2023</td>\n",
       "      <td>PR Newswire</td>\n",
       "    </tr>\n",
       "    <tr>\n",
       "      <th>4</th>\n",
       "      <td>American Banking and Market News - American Co...</td>\n",
       "      <td>2877300797</td>\n",
       "      <td>Oct 16, 2023</td>\n",
       "      <td>Oct 16, 2023</td>\n",
       "      <td>Newstex Finance &amp; Accounting Blogs</td>\n",
       "    </tr>\n",
       "    <tr>\n",
       "      <th>...</th>\n",
       "      <td>...</td>\n",
       "      <td>...</td>\n",
       "      <td>...</td>\n",
       "      <td>...</td>\n",
       "      <td>...</td>\n",
       "    </tr>\n",
       "    <tr>\n",
       "      <th>11129</th>\n",
       "      <td>Apple Inc Files Patent Application for Portabl...</td>\n",
       "      <td>2759671243</td>\n",
       "      <td>Dec 31, 2022</td>\n",
       "      <td>Dec 31, 2022</td>\n",
       "      <td>Indian Patents News</td>\n",
       "    </tr>\n",
       "    <tr>\n",
       "      <th>11130</th>\n",
       "      <td>Apple Inc Files Patent Application for Improve...</td>\n",
       "      <td>2759696836</td>\n",
       "      <td>Dec 31, 2022</td>\n",
       "      <td>Dec 31, 2022</td>\n",
       "      <td>Indian Patents News</td>\n",
       "    </tr>\n",
       "    <tr>\n",
       "      <th>11131</th>\n",
       "      <td>Here's what's in store for Apple's stock in 2023</td>\n",
       "      <td>2759717052</td>\n",
       "      <td>Dec 29, 2022</td>\n",
       "      <td>Dec 29, 2022</td>\n",
       "      <td>CE Noticias Financieras</td>\n",
       "    </tr>\n",
       "    <tr>\n",
       "      <th>11132</th>\n",
       "      <td>Bulls And Bears Of The Week: Apple, AMC, Meta,...</td>\n",
       "      <td>2759717080</td>\n",
       "      <td>Dec 31, 2022</td>\n",
       "      <td>Dec 31, 2022</td>\n",
       "      <td>Benzinga Newswires</td>\n",
       "    </tr>\n",
       "    <tr>\n",
       "      <th>11133</th>\n",
       "      <td>Tesla, Apple, Southwest Airlines: Stocks That ...</td>\n",
       "      <td>2759754412</td>\n",
       "      <td>Dec 31, 2022</td>\n",
       "      <td>Dec 31, 2022</td>\n",
       "      <td>Dow Jones Institutional News</td>\n",
       "    </tr>\n",
       "  </tbody>\n",
       "</table>\n",
       "<p>11134 rows × 5 columns</p>\n",
       "</div>"
      ],
      "text/plain": [
       "                                                   Title     StoreId  \\\n",
       "0      Apple Inc. Stock Falls Monday, Underperforms M...  2877616354   \n",
       "1      Zacks Investment Research: Apple (AAPL) Stock ...  2877513694   \n",
       "2      Apple (AAPL) Stock Sinks As Market Gains: What...  2877508989   \n",
       "3      Thinking about trading options or stock in App...  2877344743   \n",
       "4      American Banking and Market News - American Co...  2877300797   \n",
       "...                                                  ...         ...   \n",
       "11129  Apple Inc Files Patent Application for Portabl...  2759671243   \n",
       "11130  Apple Inc Files Patent Application for Improve...  2759696836   \n",
       "11131   Here's what's in store for Apple's stock in 2023  2759717052   \n",
       "11132  Bulls And Bears Of The Week: Apple, AMC, Meta,...  2759717080   \n",
       "11133  Tesla, Apple, Southwest Airlines: Stocks That ...  2759754412   \n",
       "\n",
       "           entryDate       pubdate                            pubtitle  \n",
       "0       Oct 16, 2023  Oct 16, 2023        Dow Jones Institutional News  \n",
       "1       Oct 16, 2023  Oct 16, 2023  Newstex Finance & Accounting Blogs  \n",
       "2       Oct 16, 2023  Oct 16, 2023    Zacks Investment Research [BLOG]  \n",
       "3       Oct 16, 2023  Oct 16, 2023                         PR Newswire  \n",
       "4       Oct 16, 2023  Oct 16, 2023  Newstex Finance & Accounting Blogs  \n",
       "...              ...           ...                                 ...  \n",
       "11129   Dec 31, 2022  Dec 31, 2022                 Indian Patents News  \n",
       "11130   Dec 31, 2022  Dec 31, 2022                 Indian Patents News  \n",
       "11131   Dec 29, 2022  Dec 29, 2022             CE Noticias Financieras  \n",
       "11132   Dec 31, 2022  Dec 31, 2022                  Benzinga Newswires  \n",
       "11133   Dec 31, 2022  Dec 31, 2022        Dow Jones Institutional News  \n",
       "\n",
       "[11134 rows x 5 columns]"
      ]
     },
     "execution_count": 25,
     "metadata": {},
     "output_type": "execute_result"
    }
   ],
   "source": [
    "excel_data = \"Pro 0-3712 FINAL ORDER.xls\"\n",
    "\n",
    "df = pd.read_excel(in_path+ excel_data)\n",
    "\n",
    "df1 = df.copy()\n",
    "\n",
    "\n",
    "df1=df[['Title', 'StoreId', 'entryDate', 'pubdate', 'pubtitle']]\n",
    "\n",
    "df1\n"
   ]
  },
  {
   "cell_type": "code",
   "execution_count": 26,
   "id": "490dca97",
   "metadata": {},
   "outputs": [],
   "source": [
    "df1.dtypes\n",
    "df1['proper_date'] = pd.to_datetime(df1['pubdate'], dayfirst=True)\n",
    "\n",
    "    \n",
    "df2 = df1.copy()\n"
   ]
  },
  {
   "cell_type": "code",
   "execution_count": 27,
   "id": "f09d5d20",
   "metadata": {},
   "outputs": [
    {
     "data": {
      "text/html": [
       "<div>\n",
       "<style scoped>\n",
       "    .dataframe tbody tr th:only-of-type {\n",
       "        vertical-align: middle;\n",
       "    }\n",
       "\n",
       "    .dataframe tbody tr th {\n",
       "        vertical-align: top;\n",
       "    }\n",
       "\n",
       "    .dataframe thead th {\n",
       "        text-align: right;\n",
       "    }\n",
       "</style>\n",
       "<table border=\"1\" class=\"dataframe\">\n",
       "  <thead>\n",
       "    <tr style=\"text-align: right;\">\n",
       "      <th></th>\n",
       "      <th>Title</th>\n",
       "      <th>StoreId</th>\n",
       "      <th>entryDate</th>\n",
       "      <th>pubdate</th>\n",
       "      <th>pubtitle</th>\n",
       "      <th>proper_date</th>\n",
       "    </tr>\n",
       "  </thead>\n",
       "  <tbody>\n",
       "    <tr>\n",
       "      <th>0</th>\n",
       "      <td>Apple Inc. Stock Falls Monday, Underperforms M...</td>\n",
       "      <td>2877616354</td>\n",
       "      <td>Oct 16, 2023</td>\n",
       "      <td>Oct 16, 2023</td>\n",
       "      <td>Dow Jones Institutional News</td>\n",
       "      <td>2023-10-16</td>\n",
       "    </tr>\n",
       "    <tr>\n",
       "      <th>1</th>\n",
       "      <td>Zacks Investment Research: Apple (AAPL) Stock ...</td>\n",
       "      <td>2877513694</td>\n",
       "      <td>Oct 16, 2023</td>\n",
       "      <td>Oct 16, 2023</td>\n",
       "      <td>Newstex Finance &amp; Accounting Blogs</td>\n",
       "      <td>2023-10-16</td>\n",
       "    </tr>\n",
       "    <tr>\n",
       "      <th>2</th>\n",
       "      <td>Apple (AAPL) Stock Sinks As Market Gains: What...</td>\n",
       "      <td>2877508989</td>\n",
       "      <td>Oct 16, 2023</td>\n",
       "      <td>Oct 16, 2023</td>\n",
       "      <td>Zacks Investment Research [BLOG]</td>\n",
       "      <td>2023-10-16</td>\n",
       "    </tr>\n",
       "    <tr>\n",
       "      <th>3</th>\n",
       "      <td>Thinking about trading options or stock in App...</td>\n",
       "      <td>2877344743</td>\n",
       "      <td>Oct 16, 2023</td>\n",
       "      <td>Oct 16, 2023</td>\n",
       "      <td>PR Newswire</td>\n",
       "      <td>2023-10-16</td>\n",
       "    </tr>\n",
       "    <tr>\n",
       "      <th>4</th>\n",
       "      <td>American Banking and Market News - American Co...</td>\n",
       "      <td>2877300797</td>\n",
       "      <td>Oct 16, 2023</td>\n",
       "      <td>Oct 16, 2023</td>\n",
       "      <td>Newstex Finance &amp; Accounting Blogs</td>\n",
       "      <td>2023-10-16</td>\n",
       "    </tr>\n",
       "    <tr>\n",
       "      <th>...</th>\n",
       "      <td>...</td>\n",
       "      <td>...</td>\n",
       "      <td>...</td>\n",
       "      <td>...</td>\n",
       "      <td>...</td>\n",
       "      <td>...</td>\n",
       "    </tr>\n",
       "    <tr>\n",
       "      <th>11129</th>\n",
       "      <td>Apple Inc Files Patent Application for Portabl...</td>\n",
       "      <td>2759671243</td>\n",
       "      <td>Dec 31, 2022</td>\n",
       "      <td>Dec 31, 2022</td>\n",
       "      <td>Indian Patents News</td>\n",
       "      <td>2022-12-31</td>\n",
       "    </tr>\n",
       "    <tr>\n",
       "      <th>11130</th>\n",
       "      <td>Apple Inc Files Patent Application for Improve...</td>\n",
       "      <td>2759696836</td>\n",
       "      <td>Dec 31, 2022</td>\n",
       "      <td>Dec 31, 2022</td>\n",
       "      <td>Indian Patents News</td>\n",
       "      <td>2022-12-31</td>\n",
       "    </tr>\n",
       "    <tr>\n",
       "      <th>11131</th>\n",
       "      <td>Here's what's in store for Apple's stock in 2023</td>\n",
       "      <td>2759717052</td>\n",
       "      <td>Dec 29, 2022</td>\n",
       "      <td>Dec 29, 2022</td>\n",
       "      <td>CE Noticias Financieras</td>\n",
       "      <td>2022-12-29</td>\n",
       "    </tr>\n",
       "    <tr>\n",
       "      <th>11132</th>\n",
       "      <td>Bulls And Bears Of The Week: Apple, AMC, Meta,...</td>\n",
       "      <td>2759717080</td>\n",
       "      <td>Dec 31, 2022</td>\n",
       "      <td>Dec 31, 2022</td>\n",
       "      <td>Benzinga Newswires</td>\n",
       "      <td>2022-12-31</td>\n",
       "    </tr>\n",
       "    <tr>\n",
       "      <th>11133</th>\n",
       "      <td>Tesla, Apple, Southwest Airlines: Stocks That ...</td>\n",
       "      <td>2759754412</td>\n",
       "      <td>Dec 31, 2022</td>\n",
       "      <td>Dec 31, 2022</td>\n",
       "      <td>Dow Jones Institutional News</td>\n",
       "      <td>2022-12-31</td>\n",
       "    </tr>\n",
       "  </tbody>\n",
       "</table>\n",
       "<p>11134 rows × 6 columns</p>\n",
       "</div>"
      ],
      "text/plain": [
       "                                                   Title     StoreId  \\\n",
       "0      Apple Inc. Stock Falls Monday, Underperforms M...  2877616354   \n",
       "1      Zacks Investment Research: Apple (AAPL) Stock ...  2877513694   \n",
       "2      Apple (AAPL) Stock Sinks As Market Gains: What...  2877508989   \n",
       "3      Thinking about trading options or stock in App...  2877344743   \n",
       "4      American Banking and Market News - American Co...  2877300797   \n",
       "...                                                  ...         ...   \n",
       "11129  Apple Inc Files Patent Application for Portabl...  2759671243   \n",
       "11130  Apple Inc Files Patent Application for Improve...  2759696836   \n",
       "11131   Here's what's in store for Apple's stock in 2023  2759717052   \n",
       "11132  Bulls And Bears Of The Week: Apple, AMC, Meta,...  2759717080   \n",
       "11133  Tesla, Apple, Southwest Airlines: Stocks That ...  2759754412   \n",
       "\n",
       "           entryDate       pubdate                            pubtitle  \\\n",
       "0       Oct 16, 2023  Oct 16, 2023        Dow Jones Institutional News   \n",
       "1       Oct 16, 2023  Oct 16, 2023  Newstex Finance & Accounting Blogs   \n",
       "2       Oct 16, 2023  Oct 16, 2023    Zacks Investment Research [BLOG]   \n",
       "3       Oct 16, 2023  Oct 16, 2023                         PR Newswire   \n",
       "4       Oct 16, 2023  Oct 16, 2023  Newstex Finance & Accounting Blogs   \n",
       "...              ...           ...                                 ...   \n",
       "11129   Dec 31, 2022  Dec 31, 2022                 Indian Patents News   \n",
       "11130   Dec 31, 2022  Dec 31, 2022                 Indian Patents News   \n",
       "11131   Dec 29, 2022  Dec 29, 2022             CE Noticias Financieras   \n",
       "11132   Dec 31, 2022  Dec 31, 2022                  Benzinga Newswires   \n",
       "11133   Dec 31, 2022  Dec 31, 2022        Dow Jones Institutional News   \n",
       "\n",
       "      proper_date  \n",
       "0      2023-10-16  \n",
       "1      2023-10-16  \n",
       "2      2023-10-16  \n",
       "3      2023-10-16  \n",
       "4      2023-10-16  \n",
       "...           ...  \n",
       "11129  2022-12-31  \n",
       "11130  2022-12-31  \n",
       "11131  2022-12-29  \n",
       "11132  2022-12-31  \n",
       "11133  2022-12-31  \n",
       "\n",
       "[11134 rows x 6 columns]"
      ]
     },
     "execution_count": 27,
     "metadata": {},
     "output_type": "execute_result"
    }
   ],
   "source": [
    "df2"
   ]
  },
  {
   "cell_type": "code",
   "execution_count": 28,
   "id": "6456fe45",
   "metadata": {},
   "outputs": [
    {
     "data": {
      "text/plain": [
       "0        Apple Inc. Stock Falls Monday, Underperforms M...\n",
       "1        Zacks Investment Research: Apple (AAPL) Stock ...\n",
       "2        Apple (AAPL) Stock Sinks As Market Gains: What...\n",
       "3        Thinking about trading options or stock in App...\n",
       "4        American Banking and Market News - American Co...\n",
       "                               ...                        \n",
       "11129    Apple Inc Files Patent Application for Portabl...\n",
       "11130    Apple Inc Files Patent Application for Improve...\n",
       "11131     Here's what's in store for Apple's stock in 2023\n",
       "11132    Bulls And Bears Of The Week: Apple, AMC, Meta,...\n",
       "11133    Tesla, Apple, Southwest Airlines: Stocks That ...\n",
       "Name: Title, Length: 11134, dtype: object"
      ]
     },
     "execution_count": 28,
     "metadata": {},
     "output_type": "execute_result"
    }
   ],
   "source": [
    "df2['Title']"
   ]
  },
  {
   "cell_type": "code",
   "execution_count": 5,
   "id": "b84070b8",
   "metadata": {},
   "outputs": [],
   "source": [
    "tokenizer = AutoTokenizer.from_pretrained(\"mrm8488/distilroberta-finetuned-financial-news-sentiment-analysis\")\n",
    "model = AutoModelForSequenceClassification.from_pretrained(\"mrm8488/distilroberta-finetuned-financial-news-sentiment-analysis\")\n",
    "\n"
   ]
  },
  {
   "cell_type": "code",
   "execution_count": 13,
   "id": "a0ad15b3",
   "metadata": {},
   "outputs": [],
   "source": [
    "def sentiment_score(text):\n",
    "    tokens=tokenizer.encode(text, return_tensors='pt')\n",
    "    result =model(tokens)\n",
    "    return int((result.logits))-1"
   ]
  },
  {
   "cell_type": "code",
   "execution_count": 14,
   "metadata": {},
   "outputs": [
    {
     "ename": "AttributeError",
     "evalue": "module 'torch' has no attribute 'arg'",
     "output_type": "error",
     "traceback": [
      "\u001b[1;31m---------------------------------------------------------------------------\u001b[0m",
      "\u001b[1;31mAttributeError\u001b[0m                            Traceback (most recent call last)",
      "\u001b[1;32mc:\\Users\\andre\\Texas Exchange\\Project\\projectML - Copy.ipynb Cell 9\u001b[0m line \u001b[0;36m1\n\u001b[1;32m----> <a href='vscode-notebook-cell:/c%3A/Users/andre/Texas%20Exchange/Project/projectML%20-%20Copy.ipynb#X11sZmlsZQ%3D%3D?line=0'>1</a>\u001b[0m sentiment_score(\u001b[39m\"\u001b[39;49m\u001b[39mThis is very good news\u001b[39;49m\u001b[39m\"\u001b[39;49m)\n",
      "\u001b[1;32mc:\\Users\\andre\\Texas Exchange\\Project\\projectML - Copy.ipynb Cell 9\u001b[0m line \u001b[0;36m4\n\u001b[0;32m      <a href='vscode-notebook-cell:/c%3A/Users/andre/Texas%20Exchange/Project/projectML%20-%20Copy.ipynb#X11sZmlsZQ%3D%3D?line=1'>2</a>\u001b[0m tokens\u001b[39m=\u001b[39mtokenizer\u001b[39m.\u001b[39mencode(text, return_tensors\u001b[39m=\u001b[39m\u001b[39m'\u001b[39m\u001b[39mpt\u001b[39m\u001b[39m'\u001b[39m)\n\u001b[0;32m      <a href='vscode-notebook-cell:/c%3A/Users/andre/Texas%20Exchange/Project/projectML%20-%20Copy.ipynb#X11sZmlsZQ%3D%3D?line=2'>3</a>\u001b[0m result \u001b[39m=\u001b[39mmodel(tokens)\n\u001b[1;32m----> <a href='vscode-notebook-cell:/c%3A/Users/andre/Texas%20Exchange/Project/projectML%20-%20Copy.ipynb#X11sZmlsZQ%3D%3D?line=3'>4</a>\u001b[0m \u001b[39mreturn\u001b[39;00m \u001b[39mint\u001b[39m(torch\u001b[39m.\u001b[39;49marg(result\u001b[39m.\u001b[39mlogits))\u001b[39m-\u001b[39m\u001b[39m1\u001b[39m\n",
      "File \u001b[1;32mc:\\Users\\andre\\anaconda3\\envs\\DataScience\\lib\\site-packages\\torch\\__init__.py:1833\u001b[0m, in \u001b[0;36m__getattr__\u001b[1;34m(name)\u001b[0m\n\u001b[0;32m   1830\u001b[0m     \u001b[39mimport\u001b[39;00m \u001b[39mimportlib\u001b[39;00m\n\u001b[0;32m   1831\u001b[0m     \u001b[39mreturn\u001b[39;00m importlib\u001b[39m.\u001b[39mimport_module(\u001b[39mf\u001b[39m\u001b[39m\"\u001b[39m\u001b[39m.\u001b[39m\u001b[39m{\u001b[39;00mname\u001b[39m}\u001b[39;00m\u001b[39m\"\u001b[39m, \u001b[39m__name__\u001b[39m)\n\u001b[1;32m-> 1833\u001b[0m \u001b[39mraise\u001b[39;00m \u001b[39mAttributeError\u001b[39;00m(\u001b[39mf\u001b[39m\u001b[39m\"\u001b[39m\u001b[39mmodule \u001b[39m\u001b[39m'\u001b[39m\u001b[39m{\u001b[39;00m\u001b[39m__name__\u001b[39m\u001b[39m}\u001b[39;00m\u001b[39m'\u001b[39m\u001b[39m has no attribute \u001b[39m\u001b[39m'\u001b[39m\u001b[39m{\u001b[39;00mname\u001b[39m}\u001b[39;00m\u001b[39m'\u001b[39m\u001b[39m\"\u001b[39m)\n",
      "\u001b[1;31mAttributeError\u001b[0m: module 'torch' has no attribute 'arg'"
     ]
    }
   ],
   "source": [
    "sentiment_score(\"This is very good news\")"
   ]
  },
  {
   "cell_type": "code",
   "execution_count": 12,
   "metadata": {},
   "outputs": [
    {
     "data": {
      "text/plain": [
       "SequenceClassifierOutput(loss=None, logits=tensor([[-2.9078, -1.2164,  4.6350]], grad_fn=<AddmmBackward0>), hidden_states=None, attentions=None)"
      ]
     },
     "execution_count": 12,
     "metadata": {},
     "output_type": "execute_result"
    }
   ],
   "source": [
    "sentiment_score(\"This is good news\")"
   ]
  },
  {
   "cell_type": "code",
   "execution_count": 31,
   "id": "96b17a57",
   "metadata": {},
   "outputs": [],
   "source": [
    "# for index, row in df2.iterrows():\n",
    "#     df2['Sentiment']=sentiment_score(df2.loc[index, 'extracted_texts'])\n",
    "\n",
    "# sentiment_score(df2.loc[1, 'extracted_texts'])\n",
    "\n",
    "df2['sentiment']= df2['Title'].apply(lambda x: sentiment_score(x[:1000]))\n"
   ]
  },
  {
   "cell_type": "code",
   "execution_count": 32,
   "id": "8a9b3a84",
   "metadata": {},
   "outputs": [
    {
     "data": {
      "text/plain": [
       "count    11134.000000\n",
       "mean         0.025507\n",
       "std          0.501749\n",
       "min         -1.000000\n",
       "25%          0.000000\n",
       "50%          0.000000\n",
       "75%          0.000000\n",
       "max          1.000000\n",
       "Name: sentiment, dtype: float64"
      ]
     },
     "execution_count": 32,
     "metadata": {},
     "output_type": "execute_result"
    }
   ],
   "source": [
    "df2['sentiment'].describe()"
   ]
  },
  {
   "cell_type": "code",
   "execution_count": null,
   "id": "a71236a5",
   "metadata": {},
   "outputs": [],
   "source": []
  },
  {
   "cell_type": "code",
   "execution_count": 33,
   "id": "4cd36315",
   "metadata": {},
   "outputs": [],
   "source": [
    "df3 = df2.groupby(['proper_date','pubtitle']).agg({'sentiment':'mean'}).reset_index()"
   ]
  },
  {
   "cell_type": "code",
   "execution_count": 35,
   "id": "a11b2e47",
   "metadata": {},
   "outputs": [],
   "source": [
    "df2.to_excel(out_path + 'df_with_sentiment_all_11000.xlsx', index=False)\n"
   ]
  },
  {
   "cell_type": "code",
   "execution_count": 36,
   "id": "7d0f92cb",
   "metadata": {},
   "outputs": [],
   "source": [
    "df3.to_excel(out_path + 'df_with_sentiment_grouped_11000.xlsx', index=False)"
   ]
  },
  {
   "cell_type": "code",
   "execution_count": null,
   "id": "e2437b65",
   "metadata": {},
   "outputs": [],
   "source": []
  }
 ],
 "metadata": {
  "kernelspec": {
   "display_name": "Python 3 (ipykernel)",
   "language": "python",
   "name": "python3"
  },
  "language_info": {
   "codemirror_mode": {
    "name": "ipython",
    "version": 3
   },
   "file_extension": ".py",
   "mimetype": "text/x-python",
   "name": "python",
   "nbconvert_exporter": "python",
   "pygments_lexer": "ipython3",
   "version": "3.9.17"
  }
 },
 "nbformat": 4,
 "nbformat_minor": 5
}
